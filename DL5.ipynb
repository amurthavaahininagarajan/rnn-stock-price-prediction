{
  "nbformat": 4,
  "nbformat_minor": 0,
  "metadata": {
    "colab": {
      "provenance": [],
      "authorship_tag": "ABX9TyMCkdQPDMI4emyv9+wYPX+0"
    },
    "kernelspec": {
      "name": "python3",
      "display_name": "Python 3"
    },
    "language_info": {
      "name": "python"
    }
  },
  "cells": [
    {
      "cell_type": "code",
      "execution_count": 1,
      "metadata": {
        "id": "SH4TIWuBz27M"
      },
      "outputs": [],
      "source": [
        "import numpy as np\n",
        "import matplotlib.pyplot as plt\n",
        "import pandas as pd\n",
        "from sklearn.preprocessing import MinMaxScaler\n",
        "from keras import layers\n",
        "from keras.models import Sequential"
      ]
    },
    {
      "cell_type": "code",
      "source": [
        "dataset_train = pd.read_csv('trainset (3).csv')\n",
        "dataset_train.columns\n",
        "dataset_train.head()\n",
        "train_set = dataset_train.iloc[:,1:2].values\n",
        "type(train_set)\n",
        "train_set.shape"
      ],
      "metadata": {
        "colab": {
          "base_uri": "https://localhost:8080/"
        },
        "id": "Ia7VRJ1N0Xg2",
        "outputId": "8c65d9a0-c09a-40ec-ef8a-17ce3aee7e1a"
      },
      "execution_count": 3,
      "outputs": [
        {
          "output_type": "execute_result",
          "data": {
            "text/plain": [
              "(1259, 1)"
            ]
          },
          "metadata": {},
          "execution_count": 3
        }
      ]
    },
    {
      "cell_type": "code",
      "source": [
        "sc = MinMaxScaler(feature_range=(0,1))\n",
        "training_set_scaled = sc.fit_transform(train_set)\n",
        "training_set_scaled.shape"
      ],
      "metadata": {
        "colab": {
          "base_uri": "https://localhost:8080/"
        },
        "id": "NzDA4vvq0ioD",
        "outputId": "4268d0b2-e882-4ac3-9e10-4fa43669ba9b"
      },
      "execution_count": 4,
      "outputs": [
        {
          "output_type": "execute_result",
          "data": {
            "text/plain": [
              "(1259, 1)"
            ]
          },
          "metadata": {},
          "execution_count": 4
        }
      ]
    },
    {
      "cell_type": "code",
      "source": [
        "X_train_array = []\n",
        "y_train_array = []\n",
        "for i in range(60, 1259):\n",
        "  X_train_array.append(training_set_scaled[i-60:i,0])\n",
        "  y_train_array.append(training_set_scaled[i,0])\n",
        "X_train, y_train = np.array(X_train_array), np.array(y_train_array)\n",
        "X_train1 = X_train.reshape((X_train.shape[0], X_train.shape[1],1))"
      ],
      "metadata": {
        "id": "n4GIqCtj0mrF"
      },
      "execution_count": 5,
      "outputs": []
    },
    {
      "cell_type": "code",
      "source": [
        "X_train.shape\n",
        "length = 60\n",
        "n_features = 1"
      ],
      "metadata": {
        "id": "STkWOLBC0muZ"
      },
      "execution_count": 6,
      "outputs": []
    },
    {
      "cell_type": "code",
      "source": [
        "model = Sequential()\n",
        "model.add(layers.SimpleRNN(50, input_shape = (length, n_features)))\n",
        "model.add(layers.Dense(1))"
      ],
      "metadata": {
        "id": "OgRKCqat0vMG"
      },
      "execution_count": 12,
      "outputs": []
    },
    {
      "cell_type": "code",
      "source": [
        "model.compile(optimizer = \"adam\", loss = \"mse\")"
      ],
      "metadata": {
        "id": "ztvO3uJc2eth"
      },
      "execution_count": 13,
      "outputs": []
    },
    {
      "cell_type": "code",
      "source": [
        "print(\"NAME: AMURTHA VAAHINI.KN  \\nREGISTER NUMBER: 212222240008 \\n        \")\n",
        "model.summary()\n"
      ],
      "metadata": {
        "colab": {
          "base_uri": "https://localhost:8080/"
        },
        "id": "TfKOFEz50wY7",
        "outputId": "448407fc-cca0-407f-a8b2-fbed70ecd543"
      },
      "execution_count": 15,
      "outputs": [
        {
          "output_type": "stream",
          "name": "stdout",
          "text": [
            "NAME: AMURTHA VAAHINI.KN  \n",
            "REGISTER NUMBER: 212222240008 \n",
            "        \n",
            "Model: \"sequential\"\n",
            "_________________________________________________________________\n",
            " Layer (type)                Output Shape              Param #   \n",
            "=================================================================\n",
            " simple_rnn (SimpleRNN)      (None, 50)                2600      \n",
            "                                                                 \n",
            " dense (Dense)               (None, 1)                 51        \n",
            "                                                                 \n",
            "=================================================================\n",
            "Total params: 2651 (10.36 KB)\n",
            "Trainable params: 2651 (10.36 KB)\n",
            "Non-trainable params: 0 (0.00 Byte)\n",
            "_________________________________________________________________\n"
          ]
        }
      ]
    },
    {
      "cell_type": "code",
      "source": [
        "model.fit(X_train1,y_train,epochs=30, batch_size=15)"
      ],
      "metadata": {
        "colab": {
          "base_uri": "https://localhost:8080/"
        },
        "id": "xjsfkvxt2tHX",
        "outputId": "e91467aa-439e-4b10-8ded-6b5fed38ad5e"
      },
      "execution_count": 16,
      "outputs": [
        {
          "output_type": "stream",
          "name": "stdout",
          "text": [
            "Epoch 1/30\n",
            "80/80 [==============================] - 2s 11ms/step - loss: 0.0067\n",
            "Epoch 2/30\n",
            "80/80 [==============================] - 1s 12ms/step - loss: 4.9754e-04\n",
            "Epoch 3/30\n",
            "80/80 [==============================] - 1s 15ms/step - loss: 4.9516e-04\n",
            "Epoch 4/30\n",
            "80/80 [==============================] - 1s 15ms/step - loss: 4.7140e-04\n",
            "Epoch 5/30\n",
            "80/80 [==============================] - 2s 22ms/step - loss: 3.7111e-04\n",
            "Epoch 6/30\n",
            "80/80 [==============================] - 2s 19ms/step - loss: 3.7339e-04\n",
            "Epoch 7/30\n",
            "80/80 [==============================] - 1s 11ms/step - loss: 3.7758e-04\n",
            "Epoch 8/30\n",
            "80/80 [==============================] - 1s 11ms/step - loss: 3.2531e-04\n",
            "Epoch 9/30\n",
            "80/80 [==============================] - 1s 11ms/step - loss: 2.9580e-04\n",
            "Epoch 10/30\n",
            "80/80 [==============================] - 1s 11ms/step - loss: 2.9790e-04\n",
            "Epoch 11/30\n",
            "80/80 [==============================] - 1s 11ms/step - loss: 2.6830e-04\n",
            "Epoch 12/30\n",
            "80/80 [==============================] - 1s 11ms/step - loss: 3.1649e-04\n",
            "Epoch 13/30\n",
            "80/80 [==============================] - 1s 11ms/step - loss: 2.9747e-04\n",
            "Epoch 14/30\n",
            "80/80 [==============================] - 1s 11ms/step - loss: 3.1430e-04\n",
            "Epoch 15/30\n",
            "80/80 [==============================] - 1s 10ms/step - loss: 2.4618e-04\n",
            "Epoch 16/30\n",
            "80/80 [==============================] - 1s 11ms/step - loss: 2.3257e-04\n",
            "Epoch 17/30\n",
            "80/80 [==============================] - 1s 11ms/step - loss: 2.2273e-04\n",
            "Epoch 18/30\n",
            "80/80 [==============================] - 1s 13ms/step - loss: 2.4369e-04\n",
            "Epoch 19/30\n",
            "80/80 [==============================] - 1s 17ms/step - loss: 2.3775e-04\n",
            "Epoch 20/30\n",
            "80/80 [==============================] - 2s 21ms/step - loss: 2.3350e-04\n",
            "Epoch 21/30\n",
            "80/80 [==============================] - 2s 21ms/step - loss: 2.2227e-04\n",
            "Epoch 22/30\n",
            "80/80 [==============================] - 1s 11ms/step - loss: 2.1057e-04\n",
            "Epoch 23/30\n",
            "80/80 [==============================] - 1s 10ms/step - loss: 2.1572e-04\n",
            "Epoch 24/30\n",
            "80/80 [==============================] - 1s 11ms/step - loss: 2.0071e-04\n",
            "Epoch 25/30\n",
            "80/80 [==============================] - 1s 11ms/step - loss: 2.2291e-04\n",
            "Epoch 26/30\n",
            "80/80 [==============================] - 1s 11ms/step - loss: 2.0022e-04\n",
            "Epoch 27/30\n",
            "80/80 [==============================] - 1s 11ms/step - loss: 2.0599e-04\n",
            "Epoch 28/30\n",
            "80/80 [==============================] - 1s 11ms/step - loss: 1.9679e-04\n",
            "Epoch 29/30\n",
            "80/80 [==============================] - 1s 11ms/step - loss: 2.2627e-04\n",
            "Epoch 30/30\n",
            "80/80 [==============================] - 1s 11ms/step - loss: 2.0967e-04\n"
          ]
        },
        {
          "output_type": "execute_result",
          "data": {
            "text/plain": [
              "<keras.src.callbacks.History at 0x7eaf2c445060>"
            ]
          },
          "metadata": {},
          "execution_count": 16
        }
      ]
    },
    {
      "cell_type": "code",
      "source": [
        "dataset_test = pd.read_csv('testset (2).csv')\n",
        "test_set = dataset_test.iloc[:,1:2].values\n",
        "test_set.shape\n",
        "dataset_total = pd.concat((dataset_train['Open'],dataset_test['Open']),axis=0)"
      ],
      "metadata": {
        "id": "z7_MpO0M2z_W"
      },
      "execution_count": 18,
      "outputs": []
    },
    {
      "cell_type": "code",
      "source": [
        "inputs = dataset_total.values\n",
        "inputs = inputs.reshape(-1,1)\n",
        "inputs_scaled=sc.transform(inputs)\n",
        "X_test = []\n",
        "for i in range(60,1384):\n",
        "  X_test.append(inputs_scaled[i-60:i,0])\n",
        "X_test = np.array(X_test)\n",
        "X_test = np.reshape(X_test,(X_test.shape[0], X_test.shape[1],1))"
      ],
      "metadata": {
        "id": "EVoqacEp3c3Y"
      },
      "execution_count": 19,
      "outputs": []
    },
    {
      "cell_type": "code",
      "source": [
        "X_test.shape"
      ],
      "metadata": {
        "colab": {
          "base_uri": "https://localhost:8080/"
        },
        "id": "ALC_xnmY3w43",
        "outputId": "9780f2a7-5d43-4f3e-e97c-560d4b5c2504"
      },
      "execution_count": 20,
      "outputs": [
        {
          "output_type": "execute_result",
          "data": {
            "text/plain": [
              "(1324, 60, 1)"
            ]
          },
          "metadata": {},
          "execution_count": 20
        }
      ]
    },
    {
      "cell_type": "code",
      "source": [
        "predicted_stock_price_scaled = model.predict(X_test)\n",
        "predicted_stock_price = sc.inverse_transform(predicted_stock_price_scaled)"
      ],
      "metadata": {
        "colab": {
          "base_uri": "https://localhost:8080/"
        },
        "id": "M8MNMPFG30kN",
        "outputId": "deb5729a-b5c2-4bca-d1ed-0e81f790c1ba"
      },
      "execution_count": 21,
      "outputs": [
        {
          "output_type": "stream",
          "name": "stdout",
          "text": [
            "42/42 [==============================] - 0s 5ms/step\n"
          ]
        }
      ]
    },
    {
      "cell_type": "code",
      "source": [
        "print(\"NAME: AMURTHA VAAHINI.KN \\nREGISTER NUMBER: 212222240008\\n \")\n",
        "plt.plot(np.arange(0,1384),inputs, color='yellow', label = 'Test(Real) Google stock price')\n",
        "plt.plot(np.arange(60,1384),predicted_stock_price, color='green', label = 'Predicted Google stock price')\n",
        "plt.title('Google Stock Price Prediction')\n",
        "plt.xlabel('Time')\n",
        "plt.ylabel('Google Stock Price')\n",
        "plt.legend()\n",
        "plt.show()"
      ],
      "metadata": {
        "colab": {
          "base_uri": "https://localhost:8080/",
          "height": 524
        },
        "id": "DlJJYrd934Et",
        "outputId": "a9ab4fad-d224-4725-9feb-eab24ebb4093"
      },
      "execution_count": 22,
      "outputs": [
        {
          "output_type": "stream",
          "name": "stdout",
          "text": [
            "NAME: AMURTHA VAAHINI.KN \n",
            "REGISTER NUMBER: 212222240008\n",
            " \n"
          ]
        },
        {
          "output_type": "display_data",
          "data": {
            "text/plain": [
              "<Figure size 640x480 with 1 Axes>"
            ],
            "image/png": "[encoded data removed]"
          },
          "metadata": {}
        }
      ]
    }
  ]
}